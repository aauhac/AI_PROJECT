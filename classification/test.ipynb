{
 "cells": [
  {
   "cell_type": "code",
   "execution_count": 1,
   "id": "3c7ff04d",
   "metadata": {},
   "outputs": [],
   "source": [
    "from tensorflow.keras.models import load_model\n",
    "\n",
    "# 저장된 모델 불러오기\n",
    "loaded_model = load_model(\"kumoh1.h5\")"
   ]
  },
  {
   "cell_type": "code",
   "execution_count": 5,
   "id": "0a60b504",
   "metadata": {},
   "outputs": [
    {
     "ename": "FileNotFoundError",
     "evalue": "[WinError 3] 지정된 경로를 찾을 수 없습니다: 'dataset/train/digital_img'",
     "output_type": "error",
     "traceback": [
      "\u001b[1;31m---------------------------------------------------------------------------\u001b[0m",
      "\u001b[1;31mFileNotFoundError\u001b[0m                         Traceback (most recent call last)",
      "Cell \u001b[1;32mIn[5], line 5\u001b[0m\n\u001b[0;32m      1\u001b[0m \u001b[38;5;28;01mimport\u001b[39;00m \u001b[38;5;21;01mos\u001b[39;00m\n\u001b[0;32m      3\u001b[0m path \u001b[38;5;241m=\u001b[39m \u001b[38;5;124m\"\u001b[39m\u001b[38;5;124mdataset/train/digital_img\u001b[39m\u001b[38;5;124m\"\u001b[39m\n\u001b[1;32m----> 5\u001b[0m class_name \u001b[38;5;241m=\u001b[39m [f \u001b[38;5;28;01mfor\u001b[39;00m f \u001b[38;5;129;01min\u001b[39;00m os\u001b[38;5;241m.\u001b[39mlistdir(path) \u001b[38;5;28;01mif\u001b[39;00m os\u001b[38;5;241m.\u001b[39mpath\u001b[38;5;241m.\u001b[39misdir(os\u001b[38;5;241m.\u001b[39mpath\u001b[38;5;241m.\u001b[39mjoin(path, f))]\n",
      "\u001b[1;31mFileNotFoundError\u001b[0m: [WinError 3] 지정된 경로를 찾을 수 없습니다: 'dataset/train/digital_img'"
     ]
    }
   ],
   "source": [
    "import os\n",
    "\n",
    "path = \"dataset/train/digital_img\"\n",
    "\n",
    "class_name = [f for f in os.listdir(path) if os.path.isdir(os.path.join(path, f))]"
   ]
  },
  {
   "cell_type": "code",
   "execution_count": 2,
   "id": "e64aa508",
   "metadata": {},
   "outputs": [
    {
     "ename": "NameError",
     "evalue": "name 'os' is not defined",
     "output_type": "error",
     "traceback": [
      "\u001b[1;31m---------------------------------------------------------------------------\u001b[0m",
      "\u001b[1;31mNameError\u001b[0m                                 Traceback (most recent call last)",
      "Cell \u001b[1;32mIn[2], line 3\u001b[0m\n\u001b[0;32m      1\u001b[0m images \u001b[38;5;241m=\u001b[39m \u001b[38;5;124m\"\u001b[39m\u001b[38;5;124m./pred\u001b[39m\u001b[38;5;124m\"\u001b[39m\n\u001b[1;32m----> 3\u001b[0m dir_name \u001b[38;5;241m=\u001b[39m [f \u001b[38;5;28;01mfor\u001b[39;00m f \u001b[38;5;129;01min\u001b[39;00m os\u001b[38;5;241m.\u001b[39mlistdir(images)]\n\u001b[0;32m      4\u001b[0m dir_name\n",
      "\u001b[1;31mNameError\u001b[0m: name 'os' is not defined"
     ]
    }
   ],
   "source": [
    "images = \"./pred\"\n",
    "\n",
    "dir_name = [f for f in os.listdir(images)]\n",
    "dir_name"
   ]
  },
  {
   "cell_type": "code",
   "execution_count": 3,
   "id": "f1de35ad",
   "metadata": {},
   "outputs": [
    {
     "ename": "NameError",
     "evalue": "name 'dir_name' is not defined",
     "output_type": "error",
     "traceback": [
      "\u001b[1;31m---------------------------------------------------------------------------\u001b[0m",
      "\u001b[1;31mNameError\u001b[0m                                 Traceback (most recent call last)",
      "Cell \u001b[1;32mIn[3], line 1\u001b[0m\n\u001b[1;32m----> 1\u001b[0m \u001b[38;5;28;01mfor\u001b[39;00m i \u001b[38;5;129;01min\u001b[39;00m dir_name:\n\u001b[0;32m      2\u001b[0m     \u001b[38;5;28;01mfor\u001b[39;00m j \u001b[38;5;129;01min\u001b[39;00m [image \u001b[38;5;28;01mfor\u001b[39;00m image \u001b[38;5;129;01min\u001b[39;00m os\u001b[38;5;241m.\u001b[39mlistdir(\u001b[38;5;124mf\u001b[39m\u001b[38;5;124m\"\u001b[39m\u001b[38;5;124m./pred/\u001b[39m\u001b[38;5;132;01m{\u001b[39;00mi\u001b[38;5;132;01m}\u001b[39;00m\u001b[38;5;124m\"\u001b[39m)]:\n\u001b[0;32m      3\u001b[0m         \u001b[38;5;28mprint\u001b[39m(j)\n",
      "\u001b[1;31mNameError\u001b[0m: name 'dir_name' is not defined"
     ]
    }
   ],
   "source": [
    "for i in dir_name:\n",
    "    for j in [image for image in os.listdir(f\"./pred/{i}\")]:\n",
    "        print(j)"
   ]
  },
  {
   "cell_type": "code",
   "execution_count": 38,
   "id": "24b523b6",
   "metadata": {
    "scrolled": true
   },
   "outputs": [
    {
     "name": "stdout",
     "output_type": "stream",
     "text": [
      "1/1 [==============================] - 0s 153ms/step\n",
      "0.60268706\n",
      "d1_1 d1_3\n",
      "1/1 [==============================] - 0s 147ms/step\n",
      "0.4798327\n",
      "d1_1 d1_3\n",
      "1/1 [==============================] - 0s 147ms/step\n",
      "0.7298263\n",
      "d1_2 d1_2\n",
      "1/1 [==============================] - 0s 164ms/step\n",
      "0.64160144\n",
      "d1_2 d1_3\n",
      "1/1 [==============================] - 0s 153ms/step\n",
      "0.6484272\n",
      "d1_3 d1_3\n",
      "1/1 [==============================] - 0s 146ms/step\n",
      "0.60539424\n",
      "d1_3 d1_3\n",
      "1/1 [==============================] - 0s 148ms/step\n",
      "0.8356736\n",
      "d1_3 d1_3\n",
      "1/1 [==============================] - 0s 149ms/step\n",
      "0.84269863\n",
      "d1_3 d1_3\n",
      "1/1 [==============================] - 0s 171ms/step\n",
      "0.99933416\n",
      "db_1 db_1\n",
      "1/1 [==============================] - 0s 165ms/step\n",
      "0.6075555\n",
      "db_1 db_1\n",
      "1/1 [==============================] - 0s 153ms/step\n",
      "0.26160148\n",
      "db_2 d1_2\n",
      "1/1 [==============================] - 0s 163ms/step\n",
      "0.43360612\n",
      "db_2 db_3\n",
      "1/1 [==============================] - 0s 174ms/step\n",
      "0.4274184\n",
      "db_2 d1_2\n",
      "1/1 [==============================] - 0s 185ms/step\n",
      "0.7597081\n",
      "db_3 db_2\n",
      "1/1 [==============================] - 0s 163ms/step\n",
      "0.96106845\n",
      "db_3 db_3\n",
      "1/1 [==============================] - 0s 149ms/step\n",
      "0.47538546\n",
      "etc etc\n",
      "1/1 [==============================] - 0s 164ms/step\n",
      "0.791663\n",
      "etc etc\n",
      "1/1 [==============================] - 0s 156ms/step\n",
      "0.59787726\n",
      "etc etc\n",
      "1/1 [==============================] - 0s 153ms/step\n",
      "0.51505095\n",
      "foun db_1\n",
      "1/1 [==============================] - 0s 168ms/step\n",
      "0.40436164\n",
      "foun db_1\n",
      "1/1 [==============================] - 0s 189ms/step\n",
      "0.7565447\n",
      "foun foun\n",
      "1/1 [==============================] - 0s 172ms/step\n",
      "0.76277393\n",
      "foun foun\n",
      "59.09090909090909%\n"
     ]
    }
   ],
   "source": [
    "import numpy as np\n",
    "from tensorflow.keras.preprocessing import image\n",
    "\n",
    "l = 0\n",
    "c = 0\n",
    "\n",
    "for i in dir_name:\n",
    "    for j in [image for image in os.listdir(f\"./pred/{i}\")]:\n",
    "        image_path = f\"./pred/{i}/{j}\"  # 예측하고자 하는 이미지의 경로를 입력하세요.\n",
    "        img = image.load_img(image_path, target_size=(400, 400))\n",
    "        img_array = image.img_to_array(img)\n",
    "        img_array = np.expand_dims(img_array, axis=0)\n",
    "        img_array /= 255.0  # 이미지를 [0, 1] 범위로 정규화\n",
    "        # 모델에 입력 이미지 전달하여 예측 수행\n",
    "        predictions = loaded_model.predict(img_array)\n",
    "\n",
    "        # 예측 결과 출력\n",
    "        predicted_class = np.argmax(predictions)\n",
    "\n",
    "        predicted_label = class_name[predicted_class]\n",
    "\n",
    "        print(np.max(predictions))\n",
    "        print(i , predicted_label)\n",
    "        if predicted_label == i:\n",
    "            c += 1\n",
    "        #if i.find(predicted_label) != -1:\n",
    "            #c += 1\n",
    "        l += 1\n",
    "print(f\"{(c / l)*100}%\")"
   ]
  },
  {
   "cell_type": "code",
   "execution_count": 35,
   "id": "c4870481",
   "metadata": {},
   "outputs": [
    {
     "name": "stdout",
     "output_type": "stream",
     "text": [
      "1/1 [==============================] - 1s 676ms/step\n",
      "1.0\n",
      "d1_1 db_3\n",
      "1/1 [==============================] - 1s 578ms/step\n",
      "1.0\n",
      "d1_1 db_3\n",
      "1/1 [==============================] - 1s 586ms/step\n",
      "1.0\n",
      "d1_2 db_3\n",
      "1/1 [==============================] - 1s 567ms/step\n",
      "1.0\n",
      "d1_2 db_3\n",
      "1/1 [==============================] - 1s 627ms/step\n",
      "0.99999976\n",
      "d1_3 db_3\n",
      "1/1 [==============================] - 1s 636ms/step\n",
      "1.0\n",
      "d1_3 db_3\n",
      "1/1 [==============================] - 1s 579ms/step\n",
      "1.0\n",
      "d1_3 db_3\n",
      "1/1 [==============================] - 1s 591ms/step\n",
      "1.0\n",
      "d1_3 db_3\n",
      "1/1 [==============================] - 1s 601ms/step\n",
      "0.9993073\n",
      "db_1 db_3\n"
     ]
    },
    {
     "ename": "KeyboardInterrupt",
     "evalue": "",
     "output_type": "error",
     "traceback": [
      "\u001b[1;31m---------------------------------------------------------------------------\u001b[0m",
      "\u001b[1;31mKeyboardInterrupt\u001b[0m                         Traceback (most recent call last)",
      "\u001b[1;32m~\\AppData\\Local\\Temp\\ipykernel_11408\\2580982378.py\u001b[0m in \u001b[0;36m<module>\u001b[1;34m\u001b[0m\n\u001b[0;32m     20\u001b[0m \u001b[1;33m\u001b[0m\u001b[0m\n\u001b[0;32m     21\u001b[0m         \u001b[0mimg\u001b[0m \u001b[1;33m=\u001b[0m \u001b[0mimg\u001b[0m\u001b[1;33m.\u001b[0m\u001b[0mcrop\u001b[0m\u001b[1;33m(\u001b[0m\u001b[1;33m(\u001b[0m\u001b[0mleft\u001b[0m\u001b[1;33m,\u001b[0m \u001b[0mtop\u001b[0m\u001b[1;33m,\u001b[0m \u001b[0mright\u001b[0m\u001b[1;33m,\u001b[0m \u001b[0mbottom\u001b[0m\u001b[1;33m)\u001b[0m\u001b[1;33m)\u001b[0m\u001b[1;33m\u001b[0m\u001b[1;33m\u001b[0m\u001b[0m\n\u001b[1;32m---> 22\u001b[1;33m         \u001b[0mimg\u001b[0m\u001b[1;33m.\u001b[0m\u001b[0mshow\u001b[0m\u001b[1;33m(\u001b[0m\u001b[1;33m)\u001b[0m\u001b[1;33m\u001b[0m\u001b[1;33m\u001b[0m\u001b[0m\n\u001b[0m\u001b[0;32m     23\u001b[0m         \u001b[0mimg_array\u001b[0m \u001b[1;33m=\u001b[0m \u001b[0mimage\u001b[0m\u001b[1;33m.\u001b[0m\u001b[0mimg_to_array\u001b[0m\u001b[1;33m(\u001b[0m\u001b[0mimg\u001b[0m\u001b[1;33m)\u001b[0m\u001b[1;33m\u001b[0m\u001b[1;33m\u001b[0m\u001b[0m\n\u001b[0;32m     24\u001b[0m         \u001b[0mimg_array\u001b[0m \u001b[1;33m=\u001b[0m \u001b[0mnp\u001b[0m\u001b[1;33m.\u001b[0m\u001b[0mexpand_dims\u001b[0m\u001b[1;33m(\u001b[0m\u001b[0mimg_array\u001b[0m\u001b[1;33m,\u001b[0m \u001b[0maxis\u001b[0m\u001b[1;33m=\u001b[0m\u001b[1;36m0\u001b[0m\u001b[1;33m)\u001b[0m\u001b[1;33m\u001b[0m\u001b[1;33m\u001b[0m\u001b[0m\n",
      "\u001b[1;32m~\\anaconda3\\envs\\project\\lib\\site-packages\\PIL\\Image.py\u001b[0m in \u001b[0;36mshow\u001b[1;34m(self, title)\u001b[0m\n\u001b[0;32m   2483\u001b[0m         \"\"\"\n\u001b[0;32m   2484\u001b[0m \u001b[1;33m\u001b[0m\u001b[0m\n\u001b[1;32m-> 2485\u001b[1;33m         \u001b[0m_show\u001b[0m\u001b[1;33m(\u001b[0m\u001b[0mself\u001b[0m\u001b[1;33m,\u001b[0m \u001b[0mtitle\u001b[0m\u001b[1;33m=\u001b[0m\u001b[0mtitle\u001b[0m\u001b[1;33m)\u001b[0m\u001b[1;33m\u001b[0m\u001b[1;33m\u001b[0m\u001b[0m\n\u001b[0m\u001b[0;32m   2486\u001b[0m \u001b[1;33m\u001b[0m\u001b[0m\n\u001b[0;32m   2487\u001b[0m     \u001b[1;32mdef\u001b[0m \u001b[0msplit\u001b[0m\u001b[1;33m(\u001b[0m\u001b[0mself\u001b[0m\u001b[1;33m)\u001b[0m\u001b[1;33m:\u001b[0m\u001b[1;33m\u001b[0m\u001b[1;33m\u001b[0m\u001b[0m\n",
      "\u001b[1;32m~\\anaconda3\\envs\\project\\lib\\site-packages\\PIL\\Image.py\u001b[0m in \u001b[0;36m_show\u001b[1;34m(image, **options)\u001b[0m\n\u001b[0;32m   3506\u001b[0m     \u001b[1;32mfrom\u001b[0m \u001b[1;33m.\u001b[0m \u001b[1;32mimport\u001b[0m \u001b[0mImageShow\u001b[0m\u001b[1;33m\u001b[0m\u001b[1;33m\u001b[0m\u001b[0m\n\u001b[0;32m   3507\u001b[0m \u001b[1;33m\u001b[0m\u001b[0m\n\u001b[1;32m-> 3508\u001b[1;33m     \u001b[0mImageShow\u001b[0m\u001b[1;33m.\u001b[0m\u001b[0mshow\u001b[0m\u001b[1;33m(\u001b[0m\u001b[0mimage\u001b[0m\u001b[1;33m,\u001b[0m \u001b[1;33m**\u001b[0m\u001b[0moptions\u001b[0m\u001b[1;33m)\u001b[0m\u001b[1;33m\u001b[0m\u001b[1;33m\u001b[0m\u001b[0m\n\u001b[0m\u001b[0;32m   3509\u001b[0m \u001b[1;33m\u001b[0m\u001b[0m\n\u001b[0;32m   3510\u001b[0m \u001b[1;33m\u001b[0m\u001b[0m\n",
      "\u001b[1;32m~\\anaconda3\\envs\\project\\lib\\site-packages\\PIL\\ImageShow.py\u001b[0m in \u001b[0;36mshow\u001b[1;34m(image, title, **options)\u001b[0m\n\u001b[0;32m     60\u001b[0m     \"\"\"\n\u001b[0;32m     61\u001b[0m     \u001b[1;32mfor\u001b[0m \u001b[0mviewer\u001b[0m \u001b[1;32min\u001b[0m \u001b[0m_viewers\u001b[0m\u001b[1;33m:\u001b[0m\u001b[1;33m\u001b[0m\u001b[1;33m\u001b[0m\u001b[0m\n\u001b[1;32m---> 62\u001b[1;33m         \u001b[1;32mif\u001b[0m \u001b[0mviewer\u001b[0m\u001b[1;33m.\u001b[0m\u001b[0mshow\u001b[0m\u001b[1;33m(\u001b[0m\u001b[0mimage\u001b[0m\u001b[1;33m,\u001b[0m \u001b[0mtitle\u001b[0m\u001b[1;33m=\u001b[0m\u001b[0mtitle\u001b[0m\u001b[1;33m,\u001b[0m \u001b[1;33m**\u001b[0m\u001b[0moptions\u001b[0m\u001b[1;33m)\u001b[0m\u001b[1;33m:\u001b[0m\u001b[1;33m\u001b[0m\u001b[1;33m\u001b[0m\u001b[0m\n\u001b[0m\u001b[0;32m     63\u001b[0m             \u001b[1;32mreturn\u001b[0m \u001b[1;32mTrue\u001b[0m\u001b[1;33m\u001b[0m\u001b[1;33m\u001b[0m\u001b[0m\n\u001b[0;32m     64\u001b[0m     \u001b[1;32mreturn\u001b[0m \u001b[1;32mFalse\u001b[0m\u001b[1;33m\u001b[0m\u001b[1;33m\u001b[0m\u001b[0m\n",
      "\u001b[1;32m~\\anaconda3\\envs\\project\\lib\\site-packages\\PIL\\ImageShow.py\u001b[0m in \u001b[0;36mshow\u001b[1;34m(self, image, **options)\u001b[0m\n\u001b[0;32m     84\u001b[0m                 \u001b[0mimage\u001b[0m \u001b[1;33m=\u001b[0m \u001b[0mimage\u001b[0m\u001b[1;33m.\u001b[0m\u001b[0mconvert\u001b[0m\u001b[1;33m(\u001b[0m\u001b[0mbase\u001b[0m\u001b[1;33m)\u001b[0m\u001b[1;33m\u001b[0m\u001b[1;33m\u001b[0m\u001b[0m\n\u001b[0;32m     85\u001b[0m \u001b[1;33m\u001b[0m\u001b[0m\n\u001b[1;32m---> 86\u001b[1;33m         \u001b[1;32mreturn\u001b[0m \u001b[0mself\u001b[0m\u001b[1;33m.\u001b[0m\u001b[0mshow_image\u001b[0m\u001b[1;33m(\u001b[0m\u001b[0mimage\u001b[0m\u001b[1;33m,\u001b[0m \u001b[1;33m**\u001b[0m\u001b[0moptions\u001b[0m\u001b[1;33m)\u001b[0m\u001b[1;33m\u001b[0m\u001b[1;33m\u001b[0m\u001b[0m\n\u001b[0m\u001b[0;32m     87\u001b[0m \u001b[1;33m\u001b[0m\u001b[0m\n\u001b[0;32m     88\u001b[0m     \u001b[1;31m# hook methods\u001b[0m\u001b[1;33m\u001b[0m\u001b[1;33m\u001b[0m\u001b[1;33m\u001b[0m\u001b[0m\n",
      "\u001b[1;32m~\\anaconda3\\envs\\project\\lib\\site-packages\\PIL\\ImageShow.py\u001b[0m in \u001b[0;36mshow_image\u001b[1;34m(self, image, **options)\u001b[0m\n\u001b[0;32m    110\u001b[0m     \u001b[1;32mdef\u001b[0m \u001b[0mshow_image\u001b[0m\u001b[1;33m(\u001b[0m\u001b[0mself\u001b[0m\u001b[1;33m,\u001b[0m \u001b[0mimage\u001b[0m\u001b[1;33m,\u001b[0m \u001b[1;33m**\u001b[0m\u001b[0moptions\u001b[0m\u001b[1;33m)\u001b[0m\u001b[1;33m:\u001b[0m\u001b[1;33m\u001b[0m\u001b[1;33m\u001b[0m\u001b[0m\n\u001b[0;32m    111\u001b[0m         \u001b[1;34m\"\"\"Display the given image.\"\"\"\u001b[0m\u001b[1;33m\u001b[0m\u001b[1;33m\u001b[0m\u001b[0m\n\u001b[1;32m--> 112\u001b[1;33m         \u001b[1;32mreturn\u001b[0m \u001b[0mself\u001b[0m\u001b[1;33m.\u001b[0m\u001b[0mshow_file\u001b[0m\u001b[1;33m(\u001b[0m\u001b[0mself\u001b[0m\u001b[1;33m.\u001b[0m\u001b[0msave_image\u001b[0m\u001b[1;33m(\u001b[0m\u001b[0mimage\u001b[0m\u001b[1;33m)\u001b[0m\u001b[1;33m,\u001b[0m \u001b[1;33m**\u001b[0m\u001b[0moptions\u001b[0m\u001b[1;33m)\u001b[0m\u001b[1;33m\u001b[0m\u001b[1;33m\u001b[0m\u001b[0m\n\u001b[0m\u001b[0;32m    113\u001b[0m \u001b[1;33m\u001b[0m\u001b[0m\n\u001b[0;32m    114\u001b[0m     \u001b[1;32mdef\u001b[0m \u001b[0mshow_file\u001b[0m\u001b[1;33m(\u001b[0m\u001b[0mself\u001b[0m\u001b[1;33m,\u001b[0m \u001b[0mpath\u001b[0m\u001b[1;33m=\u001b[0m\u001b[1;32mNone\u001b[0m\u001b[1;33m,\u001b[0m \u001b[1;33m**\u001b[0m\u001b[0moptions\u001b[0m\u001b[1;33m)\u001b[0m\u001b[1;33m:\u001b[0m\u001b[1;33m\u001b[0m\u001b[1;33m\u001b[0m\u001b[0m\n",
      "\u001b[1;32m~\\anaconda3\\envs\\project\\lib\\site-packages\\PIL\\ImageShow.py\u001b[0m in \u001b[0;36mshow_file\u001b[1;34m(self, path, **options)\u001b[0m\n\u001b[0;32m    127\u001b[0m                 \u001b[0mmsg\u001b[0m \u001b[1;33m=\u001b[0m \u001b[1;34m\"Missing required argument: 'path'\"\u001b[0m\u001b[1;33m\u001b[0m\u001b[1;33m\u001b[0m\u001b[0m\n\u001b[0;32m    128\u001b[0m                 \u001b[1;32mraise\u001b[0m \u001b[0mTypeError\u001b[0m\u001b[1;33m(\u001b[0m\u001b[0mmsg\u001b[0m\u001b[1;33m)\u001b[0m\u001b[1;33m\u001b[0m\u001b[1;33m\u001b[0m\u001b[0m\n\u001b[1;32m--> 129\u001b[1;33m         \u001b[0mos\u001b[0m\u001b[1;33m.\u001b[0m\u001b[0msystem\u001b[0m\u001b[1;33m(\u001b[0m\u001b[0mself\u001b[0m\u001b[1;33m.\u001b[0m\u001b[0mget_command\u001b[0m\u001b[1;33m(\u001b[0m\u001b[0mpath\u001b[0m\u001b[1;33m,\u001b[0m \u001b[1;33m**\u001b[0m\u001b[0moptions\u001b[0m\u001b[1;33m)\u001b[0m\u001b[1;33m)\u001b[0m  \u001b[1;31m# nosec\u001b[0m\u001b[1;33m\u001b[0m\u001b[1;33m\u001b[0m\u001b[0m\n\u001b[0m\u001b[0;32m    130\u001b[0m         \u001b[1;32mreturn\u001b[0m \u001b[1;36m1\u001b[0m\u001b[1;33m\u001b[0m\u001b[1;33m\u001b[0m\u001b[0m\n\u001b[0;32m    131\u001b[0m \u001b[1;33m\u001b[0m\u001b[0m\n",
      "\u001b[1;31mKeyboardInterrupt\u001b[0m: "
     ]
    }
   ],
   "source": [
    "from PIL import Image\n",
    "import numpy as np\n",
    "from tensorflow.keras.preprocessing import image\n",
    "\n",
    "l = 0\n",
    "c = 0\n",
    "crop_size = 900  # 원하는 크기로 조절\n",
    "\n",
    "for i in dir_name:\n",
    "    for j in [image for image in os.listdir(f\"./pred/{i}\")]:\n",
    "        image_path = f\"./pred/{i}/{j}\"  # 예측하고자 하는 이미지의 경로를 입력하세요.\n",
    "        img = Image.open(image_path)\n",
    "        \n",
    "        # 이미지를 중앙에서 crop_size x crop_size 크기로 자름\n",
    "        width, height = img.size\n",
    "        left = (width - crop_size) // 2\n",
    "        top = (height - crop_size) // 2\n",
    "        right = (width + crop_size) // 2\n",
    "        bottom = (height + crop_size) // 2\n",
    "\n",
    "        img = img.crop((left, top, right, bottom))\n",
    "        img.show()\n",
    "        img_array = image.img_to_array(img)\n",
    "        img_array = np.expand_dims(img_array, axis=0)\n",
    "        img_array /= 255.0  # 이미지를 [0, 1] 범위로 정규화\n",
    "        \n",
    "        # 모델에 입력 이미지 전달하여 예측 수행\n",
    "        predictions = loaded_model.predict(img_array)\n",
    "\n",
    "        # 예측 결과 출력\n",
    "        predicted_class = np.argmax(predictions)\n",
    "\n",
    "        predicted_label = class_name[predicted_class]\n",
    "\n",
    "        print(np.max(predictions))\n",
    "        print(i, predicted_label)\n",
    "        if predicted_label == i:\n",
    "            c += 1\n",
    "        l += 1\n",
    "\n",
    "print(f\"{(c / l) * 100}%\")"
   ]
  }
 ],
 "metadata": {
  "kernelspec": {
   "display_name": "Python 3 (ipykernel)",
   "language": "python",
   "name": "python3"
  },
  "language_info": {
   "codemirror_mode": {
    "name": "ipython",
    "version": 3
   },
   "file_extension": ".py",
   "mimetype": "text/x-python",
   "name": "python",
   "nbconvert_exporter": "python",
   "pygments_lexer": "ipython3",
   "version": "3.11.4"
  }
 },
 "nbformat": 4,
 "nbformat_minor": 5
}
